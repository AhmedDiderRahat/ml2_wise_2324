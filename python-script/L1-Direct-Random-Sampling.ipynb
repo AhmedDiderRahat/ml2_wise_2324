{
 "cells": [
  {
   "cell_type": "code",
   "execution_count": 29,
   "id": "61b2b4e6",
   "metadata": {},
   "outputs": [
    {
     "name": "stdout",
     "output_type": "stream",
     "text": [
      "[ 3. nan  4.  9. nan  6.  8. nan]\n"
     ]
    }
   ],
   "source": [
    "import numpy as np\n",
    "\n",
    "s = np.array([3, np.nan, 4, 9, np.nan, 6, 8, np.nan])\n",
    "\n",
    "print(s)"
   ]
  },
  {
   "cell_type": "code",
   "execution_count": 30,
   "id": "14563872",
   "metadata": {},
   "outputs": [
    {
     "name": "stdout",
     "output_type": "stream",
     "text": [
      "Missing Indices: [False  True False False  True False False  True]\n",
      "Missing Count: 3\n",
      "non missing values: [3. 4. 9. 6. 8.]\n",
      "random choice: [8. 3. 6.]\n",
      "\n",
      "Before imputations: [ 3. nan  4.  9. nan  6.  8. nan]\n",
      "After imputations: [3. 8. 4. 9. 3. 6. 8. 6.]\n"
     ]
    }
   ],
   "source": [
    "def random_sample_imputation(arr):\n",
    "    \n",
    "    missing_indices = np.isnan(arr)\n",
    "    missing_count = np.sum(missing_indices)\n",
    "    \n",
    "    print(f'Missing Indices: {missing_indices}')\n",
    "    print(f'Missing Count: {missing_count}')\n",
    "\n",
    "    if missing_count > 0:\n",
    "        np.random.seed(0)\n",
    "        \n",
    "        # Extract a random sample from non-missing values\n",
    "        non_missing_values = arr[~missing_indices]\n",
    "        print(f'non missing values: {non_missing_values}')\n",
    "        \n",
    "        random_sample = np.random.choice(non_missing_values, size=missing_count, replace=True)\n",
    "        print(f'random choice: {random_sample}')\n",
    "\n",
    "        # Replace missing values with the random sample\n",
    "        arr[missing_indices] = random_sample\n",
    "\n",
    "    return arr\n",
    "\n",
    "\n",
    "s = np.array([3, np.nan, 4, 9, np.nan, 6, 8, np.nan])\n",
    "\n",
    "s_imputed = random_sample_imputation(s.copy())\n",
    "\n",
    "print(f'\\nBefore imputations: {s}')\n",
    "print(f'After imputations: {s_imputed}')"
   ]
  },
  {
   "cell_type": "code",
   "execution_count": null,
   "id": "ba0fa606",
   "metadata": {},
   "outputs": [],
   "source": []
  }
 ],
 "metadata": {
  "kernelspec": {
   "display_name": "Python 3 (ipykernel)",
   "language": "python",
   "name": "python3"
  },
  "language_info": {
   "codemirror_mode": {
    "name": "ipython",
    "version": 3
   },
   "file_extension": ".py",
   "mimetype": "text/x-python",
   "name": "python",
   "nbconvert_exporter": "python",
   "pygments_lexer": "ipython3",
   "version": "3.11.4"
  }
 },
 "nbformat": 4,
 "nbformat_minor": 5
}
